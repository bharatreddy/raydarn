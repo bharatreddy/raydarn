{
 "cells": [
  {
   "cell_type": "code",
   "execution_count": 1,
   "metadata": {},
   "outputs": [],
   "source": [
    "import pandas\n",
    "import datetime\n",
    "import numpy\n",
    "import multiprocessing\n",
    "\n",
    "import rt\n",
    "import rt_sct_utils\n",
    "# import geo_locate\n",
    "import plot_utils\n",
    "\n",
    "import matplotlib.pyplot as plt\n",
    "from matplotlib.collections import LineCollection\n",
    "from matplotlib.dates import date2num, DateFormatter\n",
    "\n",
    "import time"
   ]
  },
  {
   "cell_type": "code",
   "execution_count": 2,
   "metadata": {},
   "outputs": [],
   "source": [
    "sel_beam = 11"
   ]
  },
  {
   "cell_type": "code",
   "execution_count": 3,
   "metadata": {},
   "outputs": [],
   "source": [
    "cpu_count = multiprocessing.cpu_count()\n",
    "# radar params\n",
    "sTime = datetime.datetime(2018,2,5)#datetime.datetime(2010,10,13)\n",
    "eTime = datetime.datetime(2018,2,6)#datetime.datetime(2010,10,14)\n",
    "date_plot = datetime.datetime(2018,2,5, 20)#datetime.datetime(2010,10,13,20)\n",
    "radar = 'cvw'"
   ]
  },
  {
   "cell_type": "code",
   "execution_count": 4,
   "metadata": {},
   "outputs": [
    {
     "name": "stdout",
     "output_type": "stream",
     "text": [
      "In:: ['mpiexec', '-n', '8', '/home/bharat/Documents/code/raydarn/rtFort', '/tmp/rtrun.2018036_12.inp', '/tmp/', '2018036_12']\n",
      "Exit code:: 0\n",
      "Returned:: \n",
      " Input file: /tmp/rtrun.2018036_12.inp                                                                                                                                                                                                                                 \n",
      " Output directory: /tmp/                                                                                                                                                                                                                                                     \n",
      " File extension: 2018036_12\n",
      "   37.0999985      -77.9499969      -41.6199989      -41.6199989       1.00000000       5.00000000       60.0000000      0.100000001       12.0000000               2        2018         205   25.0000000       49.0000000       1.00000000       0.00000000       0.00000000     2018036_12None                                                                                                                                                                                                                                                      /tmp/                                                                                                                                                                                                                                                     NONE                                                                                                                                                                                                                                                      \n",
      "Rank  0 of  8::    4   1 551   4\n",
      "Rank  1 of  8::    4   1 551   4\n",
      "Rank  2 of  8::    4   1 551   4\n",
      "Rank  3 of  8::    4   1 551   4\n",
      "Rank  4 of  8::    4   1 551   4\n",
      "Rank  5 of  8::    4   1 551   4\n",
      "Rank  6 of  8::    4   1 551   4\n",
      "Rank  7 of  8::    4   1 551   4\n",
      "Time in fortran code:    167.301 s\n",
      "\n",
      "--- 167.318950176239 seconds ---\n"
     ]
    }
   ],
   "source": [
    "start_time = time.time()\n",
    "rto = rt.RtRun(sTime=sTime, eTime=eTime,\\\n",
    "               rCode=radar, beam=sel_beam,\\\n",
    "               outDir='/tmp/', nprocs=cpu_count,\\\n",
    "              nhops=2,freq=12)\n",
    "print(\"--- %s seconds ---\" % (time.time() - start_time))"
   ]
  },
  {
   "cell_type": "code",
   "execution_count": null,
   "metadata": {},
   "outputs": [],
   "source": []
  },
  {
   "cell_type": "code",
   "execution_count": 5,
   "metadata": {},
   "outputs": [
    {
     "name": "stdout",
     "output_type": "stream",
     "text": [
      "/tmp/rays.2018036_12.dat header: \n",
      "nhour      :: 25\n",
      "nazim      :: 1\n",
      "nelev      :: 551\n",
      "tlat       :: 37.099998474121094\n",
      "tlon       :: -77.94999694824219\n",
      "saz        :: -41.619998931884766\n",
      "eaz        :: -41.619998931884766\n",
      "daz        :: 1.0\n",
      "sel        :: 5.0\n",
      "eel        :: 60.0\n",
      "del        :: 0.10000000149011612\n",
      "freq       :: 12.0\n",
      "nhop       :: 2\n",
      "year       :: 2018\n",
      "mmdd       :: 205\n",
      "shour      :: 25.0\n",
      "ehour      :: 49.0\n",
      "dhour      :: 1.0\n",
      "hmf2       :: 0.0\n",
      "nmf2       :: 0.0\n",
      "fext       :: b'2018036_12'\n",
      "outdir     :: b'None'\n",
      "indir      :: b'/tmp/'\n"
     ]
    }
   ],
   "source": [
    "rto.readRays()\n",
    "rdict = rto.rays.paths\n",
    "# rdict[date_plot][sel_beam][6.5].keys()"
   ]
  },
  {
   "cell_type": "code",
   "execution_count": 6,
   "metadata": {},
   "outputs": [
    {
     "name": "stdout",
     "output_type": "stream",
     "text": [
      "/tmp/edens.2018036_12.dat header: \n",
      "nhour      :: 25\n",
      "nazim      :: 1\n",
      "nelev      :: 551\n",
      "tlat       :: 37.099998474121094\n",
      "tlon       :: -77.94999694824219\n",
      "saz        :: -41.619998931884766\n",
      "eaz        :: -41.619998931884766\n",
      "daz        :: 1.0\n",
      "sel        :: 5.0\n",
      "eel        :: 60.0\n",
      "del        :: 0.10000000149011612\n",
      "freq       :: 12.0\n",
      "nhop       :: 2\n",
      "year       :: 2018\n",
      "mmdd       :: 205\n",
      "shour      :: 25.0\n",
      "ehour      :: 49.0\n",
      "dhour      :: 1.0\n",
      "hmf2       :: 0.0\n",
      "nmf2       :: 0.0\n",
      "fext       :: b'2018036_12'\n",
      "outdir     :: b'None'\n",
      "indir      :: b'/tmp/'\n"
     ]
    }
   ],
   "source": [
    "rto.readEdens()\n",
    "edenstht = rto.ionos.edens[date_plot][sel_beam]['th']#dict_keys(['th', 'nel', 'dip'])\n",
    "edensArr = rto.ionos.edens[date_plot][sel_beam]['nel']"
   ]
  },
  {
   "cell_type": "code",
   "execution_count": null,
   "metadata": {},
   "outputs": [
    {
     "name": "stdout",
     "output_type": "stream",
     "text": [
      "/tmp/gscat.2018036_12.dat header: \n",
      "nhour      :: 25\n",
      "nazim      :: 1\n",
      "nelev      :: 551\n",
      "tlat       :: 37.099998474121094\n",
      "tlon       :: -77.94999694824219\n",
      "saz        :: -41.619998931884766\n",
      "eaz        :: -41.619998931884766\n",
      "daz        :: 1.0\n",
      "sel        :: 5.0\n",
      "eel        :: 60.0\n",
      "del        :: 0.10000000149011612\n",
      "freq       :: 12.0\n",
      "nhop       :: 2\n",
      "year       :: 2018\n",
      "mmdd       :: 205\n",
      "shour      :: 25.0\n",
      "ehour      :: 49.0\n",
      "dhour      :: 1.0\n",
      "hmf2       :: 0.0\n",
      "nmf2       :: 0.0\n",
      "fext       :: b'2018036_12'\n",
      "outdir     :: b'None'\n",
      "indir      :: b'/tmp/'\n"
     ]
    }
   ],
   "source": [
    "rto.readScatter()"
   ]
  },
  {
   "cell_type": "code",
   "execution_count": null,
   "metadata": {},
   "outputs": [],
   "source": [
    "fig = plt.figure(figsize=(16, 6))\n",
    "ax, aax = plot_utils.curved_earth_axes()\n",
    "X, Y = numpy.meshgrid(edenstht, ax.Re + numpy.linspace(60,560,250))\n",
    "im = aax.pcolormesh(X, Y,  edensArr, cmap=\"cividis\")\n",
    "cbax = plot_utils.add_cbar(im, ax)\n",
    "_ = cbax.set_ylabel(r\"N$_{el}$ [$m^{-3}$]\", fontsize=14)\n",
    "ax.set_title(date_plot.strftime(\"%Y-%m-%d %H:%M\") + \" (\"+radar+\")\", fontsize=14)\n",
    "ax.set_ylabel(r\"Alt. [km]\", size=16)\n",
    "ax.set_xlabel(r\"Ground range [km]\", size=16)\n",
    "\n",
    "# plot rays\n",
    "# plot rays\n",
    "for _el in rdict[date_plot][sel_beam].keys():\n",
    "    rays = rdict[date_plot][sel_beam][_el]\n",
    "    aax.plot(rays['th'], numpy.array(rays['r'])*1e-3, c='#9658B1', \n",
    "                            zorder=8, linewidth=1.)\n",
    "# plot rays\n",
    "# plot rays\n",
    "\n",
    "# Plot ranges\n",
    "# Plot ranges\n",
    "range_markers = [0] + list(numpy.arange(180, 5000, 225))\n",
    "x, y = [], []\n",
    "\n",
    "\n",
    "for _el in rdict[date_plot][sel_beam].keys():\n",
    "    rays = rdict[date_plot][sel_beam][_el]\n",
    "    grans = numpy.array(rays['gran'])*1e-3\n",
    "    th = numpy.array(rays['th'])\n",
    "    r = numpy.array(rays['r'])\n",
    "    for rm in range_markers:\n",
    "        inds = (grans >= rm)\n",
    "        if inds.any():\n",
    "            x.append( th[inds][0] )\n",
    "            y.append( r[inds][0]*1e-3 )\n",
    "    aax.scatter(x, y, color=\"darkgray\",s=0.25, zorder=9, alpha=0.4)\n",
    "# Plot ranges\n",
    "# Plot ranges\n",
    "\n",
    "# Plot grnd.scat\n",
    "# Plot grnd.scat\n",
    "\n",
    "for _el in rto.scatter.gsc[date_plot][sel_beam].keys():\n",
    "    gscat = rto.scatter.gsc[date_plot][sel_beam][_el]\n",
    "    if gscat is not None:\n",
    "#         print(gscat.keys())\n",
    "        aax.scatter(gscat['th'], ax.Re*numpy.ones(gscat['th'].shape), \n",
    "                        color='k', zorder=10)\n",
    "# Plot grnd.scat\n",
    "# Plot grnd.scat\n",
    "\n",
    "# Plot ion.scat\n",
    "# Plot ion.scat\n",
    "\n",
    "for _el in rto.scatter.isc[date_plot][sel_beam].keys():\n",
    "    ionos = rto.scatter.isc[date_plot][sel_beam][_el]\n",
    "\n",
    "    if ionos['nstp'] <= 0:\n",
    "        continue\n",
    "    t = ionos['th']\n",
    "    r = ionos['r']*1e-3\n",
    "    spts = numpy.array([t, r]).T.reshape(-1, 1, 2)\n",
    "    h = ionos['h']*1e-3\n",
    "    rel = numpy.radians( ionos['rel'] )\n",
    "    r = numpy.sqrt( r**2 + h**2 + 2*r*h*numpy.sin( rel ) )\n",
    "    t = t + numpy.arcsin( h/r * numpy.cos( rel ) )\n",
    "    epts = numpy.array([t, r]).T.reshape(-1, 1, 2)\n",
    "    segments = numpy.concatenate([spts, epts], axis=1)\n",
    "    lcol = LineCollection( segments, zorder=10,linewidths=5. )\n",
    "    \n",
    "    _ = lcol.set_color('k')\n",
    "    aax.add_collection( lcol )\n",
    "\n",
    "# Plot ion.scat\n",
    "# Plot ion.scat\n",
    "# fig.savefig(\"iri_test.png\", dpi=200, bbox_inches=\"tight\")"
   ]
  },
  {
   "cell_type": "code",
   "execution_count": null,
   "metadata": {},
   "outputs": [],
   "source": [
    "sct_obj = rt_sct_utils.RT_SCT(rto)\n",
    "gnd_df = sct_obj.get_gnd_sct_df()\n",
    "# dict_keys(['r', 'th', 'gran', 'lat', 'lon', 'hops'])\n",
    "iono_df = sct_obj.get_iono_sct_df()\n",
    "# dict_keys(['nstp', 'r', 'th', 'gran', 'rel', 'w', 'nr', 'lat', 'lon', 'h', 'hops'])\n",
    "#http://davit1.ece.vt.edu/doc/rt/rt_read_ranges-code.html"
   ]
  },
  {
   "cell_type": "code",
   "execution_count": null,
   "metadata": {},
   "outputs": [],
   "source": [
    "# gnd_df.groupby('hop').size()#[gnd_df['hop'] == 0.5]\n",
    "print(iono_df.head())\n",
    "print(\"-------------\")\n",
    "print(gnd_df.head())"
   ]
  },
  {
   "cell_type": "code",
   "execution_count": null,
   "metadata": {},
   "outputs": [],
   "source": [
    "# prepare iono_df for plotting\n",
    "# prepare iono_df for plotting\n",
    "plot_param = \"lag_power\"\n",
    "vmin=-30.\n",
    "vmax=0.\n",
    "\n",
    "iono_plot_df = iono_df[ [\"date\", \"range\",\\\n",
    "                        plot_param] ].pivot( \"date\", \"range\" )\n",
    "\n",
    "iono_time_vals = iono_plot_df.index.values\n",
    "iono_range_vals = iono_plot_df.columns.levels[1].values\n",
    "iono_time_cntr, iono_rng_cntr  = numpy.meshgrid( iono_time_vals, iono_range_vals )\n",
    "# Mask the nan values! pcolormesh can't handle them well!\n",
    "iono_pwr_vals = numpy.ma.masked_where(\\\n",
    "                numpy.isnan(iono_plot_df[plot_param].values),\\\n",
    "                iono_plot_df[plot_param].values)\n",
    "# prepare iono_df for plotting\n",
    "# prepare iono_df for plotting\n",
    "\n",
    "# prepare gnd_df for plotting\n",
    "# prepare gnd_df for plotting\n",
    "# sel_gnd_df = gnd_df[(gnd_df[\"median_alt\"] > 1) & gnd_df[\"hop\"] == 1]\n",
    "# sel_gnd_df[\"median_alt\"] = sel_gnd_df[\"median_alt\"] - 6370.\n",
    "gnd_plot_df = gnd_df[ [\"date\", \"range\",\\\n",
    "                        plot_param] ].pivot( \"date\", \"range\" )\n",
    "\n",
    "gnd_time_vals = gnd_plot_df.index.values\n",
    "gnd_range_vals = gnd_plot_df.columns.levels[1].values\n",
    "gnd_time_cntr, gnd_rng_cntr  = numpy.meshgrid( gnd_time_vals, gnd_range_vals )\n",
    "# Mask the nan values! pcolormesh can't handle them well!\n",
    "gnd_pwr_vals = numpy.ma.masked_where(\\\n",
    "                numpy.isnan(gnd_plot_df[plot_param].values),\\\n",
    "                gnd_plot_df[plot_param].values)\n",
    "# prepare gnd_df for plotting\n",
    "# prepare gnd_df for plotting"
   ]
  },
  {
   "cell_type": "code",
   "execution_count": null,
   "metadata": {},
   "outputs": [],
   "source": [
    "plt.style.use(\"fivethirtyeight\")\n",
    "\n",
    "fig = plt.figure(figsize=(11,8))\n",
    "ax = fig.add_subplot(111)\n",
    "\n",
    "iono_rti_plot = ax.pcolormesh(iono_time_cntr.T , iono_rng_cntr.T, iono_pwr_vals,\\\n",
    "                        cmap=\"viridis\", vmin=vmin,vmax=vmax)\n",
    "\n",
    "gnd_rti_plot = ax.pcolormesh(gnd_time_cntr.T , gnd_rng_cntr.T, gnd_pwr_vals,\\\n",
    "                        cmap=\"viridis\", vmin=vmin,vmax=vmax)\n",
    "\n",
    "ax.get_xaxis().set_major_formatter(DateFormatter('%H'))\n",
    "\n",
    "ax.set_ylabel(\"Range [Km]\")\n",
    "ax.set_xlabel(\"UT HOUR\")\n",
    "ax.set_title(date_plot.strftime(\"%Y-%m-%d\"))\n",
    "\n",
    "plt.xticks(rotation=45)\n",
    "cb = fig.colorbar(gnd_rti_plot)\n",
    "cb.set_label(\"Relative power [dB]\")\n",
    "\n",
    "ax.grid()\n"
   ]
  },
  {
   "cell_type": "code",
   "execution_count": null,
   "metadata": {},
   "outputs": [],
   "source": [
    "gnd_df[gnd_df[\"date\"] >= sTime+datetime.timedelta(hours=13)][\"date\"].unique()"
   ]
  },
  {
   "cell_type": "code",
   "execution_count": null,
   "metadata": {},
   "outputs": [],
   "source": [
    "sel_gnd_df = gnd_df[(gnd_df[\"median_alt\"] > 1) & gnd_df[\"hop\"] == 1]\n",
    "sel_gnd_df[\"median_alt\"] = sel_gnd_df[\"median_alt\"] - 6370.\n",
    "grp_gnd_df = sel_gnd_df.groupby([\"date\", \"azim\"]).min().reset_index()"
   ]
  },
  {
   "cell_type": "code",
   "execution_count": null,
   "metadata": {},
   "outputs": [],
   "source": [
    "plt.style.use(\"fivethirtyeight\")\n",
    "\n",
    "fig = plt.figure()\n",
    "ax = fig.add_subplot(111)\n",
    "\n",
    "ax.plot(grp_gnd_df[\"date\"], grp_gnd_df[\"median_alt\"])\n",
    "ax.scatter(grp_gnd_df[\"date\"], grp_gnd_df[\"median_alt\"], s=100, c='r')\n",
    "\n",
    "ax.set_xlim([datetime.datetime(2016,1,1,13), datetime.datetime(2016,1,2)])\n",
    "ax.set_ylim([100,240])\n",
    "\n",
    "ax.get_xaxis().set_major_formatter(DateFormatter('%H:%M'))"
   ]
  },
  {
   "cell_type": "code",
   "execution_count": null,
   "metadata": {},
   "outputs": [],
   "source": [
    "grp_gnd_df"
   ]
  },
  {
   "cell_type": "code",
   "execution_count": null,
   "metadata": {},
   "outputs": [],
   "source": [
    "(227-185)/2"
   ]
  },
  {
   "cell_type": "code",
   "execution_count": null,
   "metadata": {},
   "outputs": [],
   "source": []
  }
 ],
 "metadata": {
  "kernelspec": {
   "display_name": "iri",
   "language": "python",
   "name": "iri"
  },
  "language_info": {
   "codemirror_mode": {
    "name": "ipython",
    "version": 3
   },
   "file_extension": ".py",
   "mimetype": "text/x-python",
   "name": "python",
   "nbconvert_exporter": "python",
   "pygments_lexer": "ipython3",
   "version": "3.8.5"
  }
 },
 "nbformat": 4,
 "nbformat_minor": 2
}
